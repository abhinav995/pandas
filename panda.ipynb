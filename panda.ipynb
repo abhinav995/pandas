{
 "cells": [
  {
   "cell_type": "code",
   "execution_count": 2,
   "metadata": {},
   "outputs": [
    {
     "name": "stdout",
     "output_type": "stream",
     "text": [
      "Collecting pandas\n",
      "  Downloading pandas-2.2.2-cp310-cp310-win_amd64.whl (11.6 MB)\n",
      "     ---------------------------------------- 11.6/11.6 MB 1.5 MB/s eta 0:00:00\n",
      "Collecting pytz>=2020.1\n",
      "  Downloading pytz-2024.1-py2.py3-none-any.whl (505 kB)\n",
      "     ------------------------------------ 505.5/505.5 KB 275.6 kB/s eta 0:00:00\n",
      "Requirement already satisfied: numpy>=1.22.4 in c:\\users\\abhinav\\appdata\\local\\programs\\python\\python310\\lib\\site-packages (from pandas) (1.26.4)\n",
      "Collecting tzdata>=2022.7\n",
      "  Downloading tzdata-2024.1-py2.py3-none-any.whl (345 kB)\n",
      "     ------------------------------------ 345.4/345.4 KB 930.9 kB/s eta 0:00:00\n",
      "Requirement already satisfied: python-dateutil>=2.8.2 in c:\\users\\abhinav\\appdata\\roaming\\python\\python310\\site-packages (from pandas) (2.9.0.post0)\n",
      "Requirement already satisfied: six>=1.5 in c:\\users\\abhinav\\appdata\\roaming\\python\\python310\\site-packages (from python-dateutil>=2.8.2->pandas) (1.16.0)\n",
      "Installing collected packages: pytz, tzdata, pandas\n",
      "Successfully installed pandas-2.2.2 pytz-2024.1 tzdata-2024.1\n",
      "Note: you may need to restart the kernel to use updated packages.\n"
     ]
    },
    {
     "name": "stderr",
     "output_type": "stream",
     "text": [
      "WARNING: You are using pip version 22.0.4; however, version 24.0 is available.\n",
      "You should consider upgrading via the 'c:\\Users\\ABHINAV\\AppData\\Local\\Programs\\Python\\Python310\\python.exe -m pip install --upgrade pip' command.\n"
     ]
    }
   ],
   "source": [
    "pip install pandas\n"
   ]
  },
  {
   "cell_type": "code",
   "execution_count": 8,
   "metadata": {},
   "outputs": [
    {
     "name": "stdout",
     "output_type": "stream",
     "text": [
      "{'car': ['alto', 'ritz', 'swift'], 'price': ['one', 'two', 'three']}\n",
      "     car  price\n",
      "0   alto    one\n",
      "1   ritz    two\n",
      "2  swift  three\n"
     ]
    }
   ],
   "source": [
    "import pandas as pd\n",
    "# mydict={\"car\":[\"alto\",\"ritz\",\"swift\"],\n",
    "#         \"price\":[\"one\",\"two\",\"three\"]}\n",
    "# print(mydict)\n",
    "# df=pd.DataFrame(mydict)\n",
    "# print(df)\n"
   ]
  },
  {
   "cell_type": "code",
   "execution_count": 11,
   "metadata": {},
   "outputs": [
    {
     "name": "stdout",
     "output_type": "stream",
     "text": [
      "{'name': ['akhil', 'akash', 'akshay'], 'mark': [30, 40, 50], 'grade': ['c', 'b', 'a']}\n",
      "     name  mark grade\n",
      "0   akhil    30     c\n",
      "1   akash    40     b\n",
      "2  akshay    50     a\n"
     ]
    }
   ],
   "source": [
    "# dict={\"name\":[\"akhil\",\"akash\",\"akshay\"],\"mark\":[30,40,50],\"grade\":[\"c\",\"b\",\"a\"]}\n",
    "# print(dict)\n",
    "# nm=pd.DataFrame(dict)\n",
    "# print(nm)"
   ]
  },
  {
   "cell_type": "code",
   "execution_count": 14,
   "metadata": {},
   "outputs": [
    {
     "name": "stdout",
     "output_type": "stream",
     "text": [
      "a    1\n",
      "b    2\n",
      "v    3\n",
      "c    4\n",
      "dtype: int64\n"
     ]
    }
   ],
   "source": [
    "# lt=[1,2,3,4]\n",
    "# a=pd.Series(lt,index=[\"a\",\"b\",\"v\",\"c\"])\n",
    "# print(a)"
   ]
  },
  {
   "cell_type": "code",
   "execution_count": 18,
   "metadata": {},
   "outputs": [
    {
     "name": "stdout",
     "output_type": "stream",
     "text": [
      "day1    100\n",
      "dtype: int64\n"
     ]
    }
   ],
   "source": [
    "# calories=[100,200,300,400]\n",
    "# inp=pd.Series(calories,index=[\"day1\",\"day2\",\"day3\",\"day4\"])\n",
    "# print(inp)"
   ]
  },
  {
   "cell_type": "code",
   "execution_count": 19,
   "metadata": {},
   "outputs": [
    {
     "name": "stdout",
     "output_type": "stream",
     "text": [
      "     name  mark grade\n",
      "0   akhil    30     c\n",
      "1   akash    40     b\n",
      "2  akshay    50     a\n"
     ]
    }
   ],
   "source": [
    "# print(nm)"
   ]
  },
  {
   "cell_type": "code",
   "execution_count": 20,
   "metadata": {},
   "outputs": [],
   "source": [
    "# nm.to_csv('data.csv',index=False)"
   ]
  },
  {
   "cell_type": "code",
   "execution_count": 32,
   "metadata": {},
   "outputs": [
    {
     "name": "stdout",
     "output_type": "stream",
     "text": [
      "{'name': ['gireesh', 'suresh', 'ramesh'], 'age': [43, 55, 47], 'weight': [70, 67, 88]}\n",
      "      name  age  weight\n",
      "0  gireesh   43      70\n",
      "1   suresh   55      67\n",
      "2   ramesh   47      88\n"
     ]
    }
   ],
   "source": [
    "#converting data set to csv file\n",
    "# zz={\"name\":[\"gireesh\",\"suresh\",\"ramesh\"],\"age\":[43,55,47],\"weight\":[70,67,88]}\n",
    "# print(zz)\n",
    "# yy=pd.DataFrame(zz)\n",
    "# print(yy)\n",
    "# yy.to_csv('data1.csv',index=True)"
   ]
  },
  {
   "cell_type": "code",
   "execution_count": 25,
   "metadata": {},
   "outputs": [
    {
     "name": "stdout",
     "output_type": "stream",
     "text": [
      "{'name': ['adarsh', 'amal', 'athul', 'akshay'], 'age': [29, 28, 27, 30], 'place': ['mankavu', 'puthiyara', 'kallai', 'kinassery']}\n",
      "     name  age      place\n",
      "0  adarsh   29    mankavu\n",
      "1    amal   28  puthiyara\n",
      "2   athul   27     kallai\n",
      "3  akshay   30  kinassery\n",
      "     name  age      place      sqrt\n",
      "0  adarsh   29    mankavu  5.385165\n",
      "1    amal   28  puthiyara  5.291503\n",
      "2   athul   27     kallai  5.196152\n",
      "3  akshay   30  kinassery  5.477226\n",
      "     name  age      place      sqrt  mean\n",
      "0  adarsh   29    mankavu  5.385165  28.5\n",
      "1    amal   28  puthiyara  5.291503  28.5\n",
      "2   athul   27     kallai  5.196152  28.5\n",
      "3  akshay   30  kinassery  5.477226  28.5\n"
     ]
    }
   ],
   "source": [
    "#find square root and mean\n",
    "# import pandas as pd\n",
    "# details={\"name\":[\"adarsh\",\"amal\",\"athul\",\"akshay\"],\"age\":[29,28,27,30],\"place\":[\"mankavu\",\"puthiyara\",\"kallai\",\"kinassery\"]}\n",
    "# print(details)\n",
    "# mm=pd.DataFrame(details)\n",
    "# print(mm)\n",
    "\n",
    "# import numpy as np\n",
    "# mm['sqrt']=np.sqrt(mm[\"age\"])\n",
    "# print(mm)\n",
    "# mm['mean']=np.mean(mm[\"age\"])\n",
    "# print(mm)"
   ]
  },
  {
   "cell_type": "code",
   "execution_count": 21,
   "metadata": {},
   "outputs": [
    {
     "name": "stdout",
     "output_type": "stream",
     "text": [
      "{'name': ['adarsh', 'amal', 'athul', 'akshay'], 'age': [29, 28, 27, 30], 'place': ['mankavu', 'puthiyara', 'kallai', 'kinassery']}\n",
      "     name  age      place      sqrt  mean  square  sum\n",
      "0  adarsh   29    mankavu  5.385165  28.5     841   29\n",
      "1    amal   28  puthiyara  5.291503  28.5     784   57\n",
      "2   athul   27     kallai  5.196152  28.5     729   84\n",
      "3  akshay   30  kinassery  5.477226  28.5     900  114\n"
     ]
    }
   ],
   "source": [
    "#find sqaure\n",
    "# details={\"name\":[\"adarsh\",\"amal\",\"athul\",\"akshay\"],\"age\":[29,28,27,30],\"place\":[\"mankavu\",\"puthiyara\",\"kallai\",\"kinassery\"]}\n",
    "# print(details)\n",
    "# mm['square']=np.square(mm[\"age\"])\n",
    "# print(mm)"
   ]
  },
  {
   "cell_type": "code",
   "execution_count": 22,
   "metadata": {},
   "outputs": [
    {
     "name": "stdout",
     "output_type": "stream",
     "text": [
      "{'name': ['adarsh', 'amal', 'athul', 'akshay'], 'age': [29, 28, 27, 30], 'place': ['mankavu', 'puthiyara', 'kallai', 'kinassery']}\n",
      "30\n"
     ]
    }
   ],
   "source": [
    "#find maximum\n",
    "# details={\"name\":[\"adarsh\",\"amal\",\"athul\",\"akshay\"],\"age\":[29,28,27,30],\"place\":[\"mankavu\",\"puthiyara\",\"kallai\",\"kinassery\"]}\n",
    "# print(details)\n",
    "# aa=np.max(mm[\"age\"])\n",
    "# print(aa)"
   ]
  },
  {
   "cell_type": "code",
   "execution_count": 23,
   "metadata": {},
   "outputs": [
    {
     "name": "stdout",
     "output_type": "stream",
     "text": [
      "{'name': ['adarsh', 'amal', 'athul', 'akshay'], 'age': [29, 28, 27, 30], 'place': ['mankavu', 'puthiyara', 'kallai', 'kinassery']}\n",
      "     name  age      place      sqrt  mean  square  sum\n",
      "0  adarsh   29    mankavu  5.385165  28.5     841   29\n",
      "1    amal   28  puthiyara  5.291503  28.5     784   57\n",
      "2   athul   27     kallai  5.196152  28.5     729   84\n",
      "3  akshay   30  kinassery  5.477226  28.5     900  114\n"
     ]
    }
   ],
   "source": [
    "#find cumulative sum\n",
    "# details={\"name\":[\"adarsh\",\"amal\",\"athul\",\"akshay\"],\"age\":[29,28,27,30],\"place\":[\"mankavu\",\"puthiyara\",\"kallai\",\"kinassery\"]}\n",
    "# print(details)\n",
    "# mm['sum']=np.cumsum(mm[\"age\"])\n",
    "# print(mm)"
   ]
  },
  {
   "cell_type": "code",
   "execution_count": 32,
   "metadata": {},
   "outputs": [
    {
     "name": "stdout",
     "output_type": "stream",
     "text": [
      "{'name': ['adarsh', 'amal', 'athul', 'akshay'], 'age': [29, 28, 27, 30], 'place': ['mankavu', 'puthiyara', 'kallai', 'kinassery']}\n",
      "     name  age      place\n",
      "0  adarsh   29    mankavu\n",
      "1    amal   28  puthiyara\n",
      "2   athul   27     kallai\n",
      "3  akshay   30  kinassery\n",
      "             age\n",
      "count   4.000000\n",
      "mean   28.500000\n",
      "std     1.290994\n",
      "min    27.000000\n",
      "25%    27.750000\n",
      "50%    28.500000\n",
      "75%    29.250000\n",
      "max    30.000000\n"
     ]
    }
   ],
   "source": [
    "#describe function\n",
    "# details={\"name\":[\"adarsh\",\"amal\",\"athul\",\"akshay\"],\"age\":[29,28,27,30],\"place\":[\"mankavu\",\"puthiyara\",\"kallai\",\"kinassery\"]}\n",
    "# print(details)\n",
    "# pp=pd.DataFrame(details)\n",
    "# print(pp)\n",
    "# hh=pp.describe()\n",
    "# print(hh)"
   ]
  },
  {
   "cell_type": "code",
   "execution_count": 7,
   "metadata": {},
   "outputs": [
    {
     "name": "stdout",
     "output_type": "stream",
     "text": [
      "{'name': ['jithin', 'nithin', 'vishnu', 'vipin', 'arun', 'sooraj'], 'subject': ['english', 'malayalam', 'physics', 'chemistry', 'maths', 'biology'], 'mark': [23, nan, 30, 28, nan, 35]}\n",
      "     name    subject  mark\n",
      "0  jithin    english  23.0\n",
      "1  nithin  malayalam   NaN\n",
      "2  vishnu    physics  30.0\n",
      "3   vipin  chemistry  28.0\n",
      "4    arun      maths   NaN\n",
      "5  sooraj    biology  35.0\n"
     ]
    },
    {
     "data": {
      "text/html": [
       "<div>\n",
       "<style scoped>\n",
       "    .dataframe tbody tr th:only-of-type {\n",
       "        vertical-align: middle;\n",
       "    }\n",
       "\n",
       "    .dataframe tbody tr th {\n",
       "        vertical-align: top;\n",
       "    }\n",
       "\n",
       "    .dataframe thead th {\n",
       "        text-align: right;\n",
       "    }\n",
       "</style>\n",
       "<table border=\"1\" class=\"dataframe\">\n",
       "  <thead>\n",
       "    <tr style=\"text-align: right;\">\n",
       "      <th></th>\n",
       "      <th>name</th>\n",
       "      <th>subject</th>\n",
       "      <th>mark</th>\n",
       "    </tr>\n",
       "  </thead>\n",
       "  <tbody>\n",
       "    <tr>\n",
       "      <th>0</th>\n",
       "      <td>jithin</td>\n",
       "      <td>english</td>\n",
       "      <td>23.0</td>\n",
       "    </tr>\n",
       "    <tr>\n",
       "      <th>1</th>\n",
       "      <td>nithin</td>\n",
       "      <td>malayalam</td>\n",
       "      <td>26.0</td>\n",
       "    </tr>\n",
       "    <tr>\n",
       "      <th>2</th>\n",
       "      <td>vishnu</td>\n",
       "      <td>physics</td>\n",
       "      <td>30.0</td>\n",
       "    </tr>\n",
       "    <tr>\n",
       "      <th>3</th>\n",
       "      <td>vipin</td>\n",
       "      <td>chemistry</td>\n",
       "      <td>28.0</td>\n",
       "    </tr>\n",
       "    <tr>\n",
       "      <th>4</th>\n",
       "      <td>arun</td>\n",
       "      <td>maths</td>\n",
       "      <td>26.0</td>\n",
       "    </tr>\n",
       "    <tr>\n",
       "      <th>5</th>\n",
       "      <td>sooraj</td>\n",
       "      <td>biology</td>\n",
       "      <td>35.0</td>\n",
       "    </tr>\n",
       "  </tbody>\n",
       "</table>\n",
       "</div>"
      ],
      "text/plain": [
       "     name    subject  mark\n",
       "0  jithin    english  23.0\n",
       "1  nithin  malayalam  26.0\n",
       "2  vishnu    physics  30.0\n",
       "3   vipin  chemistry  28.0\n",
       "4    arun      maths  26.0\n",
       "5  sooraj    biology  35.0"
      ]
     },
     "execution_count": 7,
     "metadata": {},
     "output_type": "execute_result"
    }
   ],
   "source": [
    "import numpy as np\n",
    "import pandas as pd\n",
    "# dt={\"name\":[\"jithin\",\"nithin\",\"vishnu\",\"vipin\",\"arun\",\"sooraj\"],\"subject\":[\"english\",\"malayalam\",\"physics\",\"chemistry\",\"maths\",\"biology\"],\"mark\":[23,np.nan,30,28,np.nan,35]}\n",
    "# print(dt)\n",
    "# kk=pd.DataFrame(dt)\n",
    "# print(kk)\n",
    "# jj=kk[\"mark\"].fillna(26)\n",
    "# jj\n",
    "# kk.fillna(26,inplace=True)\n",
    "# kk"
   ]
  },
  {
   "cell_type": "code",
   "execution_count": 13,
   "metadata": {},
   "outputs": [
    {
     "name": "stdout",
     "output_type": "stream",
     "text": [
      "{'name': ['jithin', 'nithin', 'vishnu', 'vipin', 'arun', 'sooraj'], 'subject': ['english', 'malayalam', 'physics', 'chemistry', 'maths', 'biology'], 'mark': [23, nan, 30, 28, nan, 35]}\n",
      "     name    subject  mark\n",
      "0  jithin    english  23.0\n",
      "1  nithin  malayalam   NaN\n",
      "2  vishnu    physics  30.0\n",
      "3   vipin  chemistry  28.0\n",
      "4    arun      maths   NaN\n",
      "5  sooraj    biology  35.0\n",
      "     name    subject  mark\n",
      "0  jithin    english  23.0\n",
      "1  nithin  malayalam   NaN\n",
      "2  vishnu    physics  30.0\n",
      "3   vipin  chemistry  28.0\n",
      "4    arun      maths   NaN\n",
      "5  sooraj    biology  35.0\n"
     ]
    },
    {
     "data": {
      "text/html": [
       "<div>\n",
       "<style scoped>\n",
       "    .dataframe tbody tr th:only-of-type {\n",
       "        vertical-align: middle;\n",
       "    }\n",
       "\n",
       "    .dataframe tbody tr th {\n",
       "        vertical-align: top;\n",
       "    }\n",
       "\n",
       "    .dataframe thead th {\n",
       "        text-align: right;\n",
       "    }\n",
       "</style>\n",
       "<table border=\"1\" class=\"dataframe\">\n",
       "  <thead>\n",
       "    <tr style=\"text-align: right;\">\n",
       "      <th></th>\n",
       "      <th>name</th>\n",
       "      <th>subject</th>\n",
       "      <th>mark</th>\n",
       "    </tr>\n",
       "  </thead>\n",
       "  <tbody>\n",
       "    <tr>\n",
       "      <th>0</th>\n",
       "      <td>jithin</td>\n",
       "      <td>english</td>\n",
       "      <td>23.0</td>\n",
       "    </tr>\n",
       "    <tr>\n",
       "      <th>1</th>\n",
       "      <td>nithin</td>\n",
       "      <td>malayalam</td>\n",
       "      <td>29.0</td>\n",
       "    </tr>\n",
       "    <tr>\n",
       "      <th>2</th>\n",
       "      <td>vishnu</td>\n",
       "      <td>physics</td>\n",
       "      <td>30.0</td>\n",
       "    </tr>\n",
       "    <tr>\n",
       "      <th>3</th>\n",
       "      <td>vipin</td>\n",
       "      <td>chemistry</td>\n",
       "      <td>28.0</td>\n",
       "    </tr>\n",
       "    <tr>\n",
       "      <th>4</th>\n",
       "      <td>arun</td>\n",
       "      <td>maths</td>\n",
       "      <td>29.0</td>\n",
       "    </tr>\n",
       "    <tr>\n",
       "      <th>5</th>\n",
       "      <td>sooraj</td>\n",
       "      <td>biology</td>\n",
       "      <td>35.0</td>\n",
       "    </tr>\n",
       "  </tbody>\n",
       "</table>\n",
       "</div>"
      ],
      "text/plain": [
       "     name    subject  mark\n",
       "0  jithin    english  23.0\n",
       "1  nithin  malayalam  29.0\n",
       "2  vishnu    physics  30.0\n",
       "3   vipin  chemistry  28.0\n",
       "4    arun      maths  29.0\n",
       "5  sooraj    biology  35.0"
      ]
     },
     "execution_count": 13,
     "metadata": {},
     "output_type": "execute_result"
    }
   ],
   "source": [
    "# result={\"name\":[\"jithin\",\"nithin\",\"vishnu\",\"vipin\",\"arun\",\"sooraj\"],\"subject\":[\"english\",\"malayalam\",\"physics\",\"chemistry\",\"maths\",\"biology\"],\"mark\":[23,np.nan,30,28,np.nan,35]}\n",
    "# print(result)\n",
    "# df=pd.DataFrame(result)\n",
    "# print(df)\n",
    "# x=np.mean(df[\"mark\"])\n",
    "# print(df)\n",
    "# df.fillna(x,inplace=True)\n",
    "# df"
   ]
  },
  {
   "cell_type": "code",
   "execution_count": 22,
   "metadata": {},
   "outputs": [
    {
     "name": "stdout",
     "output_type": "stream",
     "text": [
      "{'name': ['jithin', 'nithin', 'vishnu', 'vipin', 'arun', 'sooraj'], 'subject': ['english', 'malayalam', 'physics', 'chemistry', 'maths', 'biology'], 'mark': [23, nan, 30, 28, nan, 35]}\n",
      "     name    subject  mark\n",
      "0  jithin    english  23.0\n",
      "1  nithin  malayalam   NaN\n",
      "2  vishnu    physics  30.0\n",
      "3   vipin  chemistry  28.0\n",
      "4    arun      maths   NaN\n",
      "5  sooraj    biology  35.0\n",
      "     name    subject  mark  median\n",
      "0  jithin    english  23.0    29.0\n",
      "1  nithin  malayalam   NaN    29.0\n",
      "2  vishnu    physics  30.0    29.0\n",
      "3   vipin  chemistry  28.0    29.0\n",
      "4    arun      maths   NaN    29.0\n",
      "5  sooraj    biology  35.0    29.0\n"
     ]
    },
    {
     "data": {
      "text/html": [
       "<div>\n",
       "<style scoped>\n",
       "    .dataframe tbody tr th:only-of-type {\n",
       "        vertical-align: middle;\n",
       "    }\n",
       "\n",
       "    .dataframe tbody tr th {\n",
       "        vertical-align: top;\n",
       "    }\n",
       "\n",
       "    .dataframe thead th {\n",
       "        text-align: right;\n",
       "    }\n",
       "</style>\n",
       "<table border=\"1\" class=\"dataframe\">\n",
       "  <thead>\n",
       "    <tr style=\"text-align: right;\">\n",
       "      <th></th>\n",
       "      <th>name</th>\n",
       "      <th>subject</th>\n",
       "      <th>mark</th>\n",
       "      <th>median</th>\n",
       "    </tr>\n",
       "  </thead>\n",
       "  <tbody>\n",
       "    <tr>\n",
       "      <th>0</th>\n",
       "      <td>jithin</td>\n",
       "      <td>english</td>\n",
       "      <td>23.0</td>\n",
       "      <td>29.0</td>\n",
       "    </tr>\n",
       "    <tr>\n",
       "      <th>1</th>\n",
       "      <td>nithin</td>\n",
       "      <td>malayalam</td>\n",
       "      <td>29.0</td>\n",
       "      <td>29.0</td>\n",
       "    </tr>\n",
       "    <tr>\n",
       "      <th>2</th>\n",
       "      <td>vishnu</td>\n",
       "      <td>physics</td>\n",
       "      <td>30.0</td>\n",
       "      <td>29.0</td>\n",
       "    </tr>\n",
       "    <tr>\n",
       "      <th>3</th>\n",
       "      <td>vipin</td>\n",
       "      <td>chemistry</td>\n",
       "      <td>28.0</td>\n",
       "      <td>29.0</td>\n",
       "    </tr>\n",
       "    <tr>\n",
       "      <th>4</th>\n",
       "      <td>arun</td>\n",
       "      <td>maths</td>\n",
       "      <td>29.0</td>\n",
       "      <td>29.0</td>\n",
       "    </tr>\n",
       "    <tr>\n",
       "      <th>5</th>\n",
       "      <td>sooraj</td>\n",
       "      <td>biology</td>\n",
       "      <td>35.0</td>\n",
       "      <td>29.0</td>\n",
       "    </tr>\n",
       "  </tbody>\n",
       "</table>\n",
       "</div>"
      ],
      "text/plain": [
       "     name    subject  mark  median\n",
       "0  jithin    english  23.0    29.0\n",
       "1  nithin  malayalam  29.0    29.0\n",
       "2  vishnu    physics  30.0    29.0\n",
       "3   vipin  chemistry  28.0    29.0\n",
       "4    arun      maths  29.0    29.0\n",
       "5  sooraj    biology  35.0    29.0"
      ]
     },
     "execution_count": 22,
     "metadata": {},
     "output_type": "execute_result"
    }
   ],
   "source": [
    "# rt={\"name\":[\"jithin\",\"nithin\",\"vishnu\",\"vipin\",\"arun\",\"sooraj\"],\"subject\":[\"english\",\"malayalam\",\"physics\",\"chemistry\",\"maths\",\"biology\"],\"mark\":[23,np.nan,30,28,np.nan,35]}\n",
    "# print(rt)\n",
    "# df=pd.DataFrame(rt)\n",
    "# print(df)\n",
    "# y=df[\"median\"]=df[\"mark\"].median()\n",
    "# print(df)\n",
    "# df.fillna(y,inplace=True)\n",
    "# df"
   ]
  },
  {
   "cell_type": "code",
   "execution_count": 24,
   "metadata": {},
   "outputs": [
    {
     "name": "stdout",
     "output_type": "stream",
     "text": [
      "{'name': ['jithin', 'nithin', 'vishnu', 'vipin', 'arun', 'sooraj'], 'subject': ['english', 'malayalam', 'physics', 'chemistry', 'maths', 'biology'], 'mark': [23, nan, 30, 28, nan, 35]}\n",
      "     name    subject  mark\n",
      "0  jithin    english  23.0\n",
      "1  nithin  malayalam   NaN\n",
      "2  vishnu    physics  30.0\n",
      "3   vipin  chemistry  28.0\n",
      "4    arun      maths   NaN\n",
      "5  sooraj    biology  35.0\n"
     ]
    },
    {
     "data": {
      "text/html": [
       "<div>\n",
       "<style scoped>\n",
       "    .dataframe tbody tr th:only-of-type {\n",
       "        vertical-align: middle;\n",
       "    }\n",
       "\n",
       "    .dataframe tbody tr th {\n",
       "        vertical-align: top;\n",
       "    }\n",
       "\n",
       "    .dataframe thead th {\n",
       "        text-align: right;\n",
       "    }\n",
       "</style>\n",
       "<table border=\"1\" class=\"dataframe\">\n",
       "  <thead>\n",
       "    <tr style=\"text-align: right;\">\n",
       "      <th></th>\n",
       "      <th>name</th>\n",
       "      <th>syllabus</th>\n",
       "      <th>mark</th>\n",
       "    </tr>\n",
       "  </thead>\n",
       "  <tbody>\n",
       "    <tr>\n",
       "      <th>0</th>\n",
       "      <td>jithin</td>\n",
       "      <td>english</td>\n",
       "      <td>23.0</td>\n",
       "    </tr>\n",
       "    <tr>\n",
       "      <th>1</th>\n",
       "      <td>nithin</td>\n",
       "      <td>malayalam</td>\n",
       "      <td>NaN</td>\n",
       "    </tr>\n",
       "    <tr>\n",
       "      <th>2</th>\n",
       "      <td>vishnu</td>\n",
       "      <td>physics</td>\n",
       "      <td>30.0</td>\n",
       "    </tr>\n",
       "    <tr>\n",
       "      <th>3</th>\n",
       "      <td>vipin</td>\n",
       "      <td>chemistry</td>\n",
       "      <td>28.0</td>\n",
       "    </tr>\n",
       "    <tr>\n",
       "      <th>4</th>\n",
       "      <td>arun</td>\n",
       "      <td>maths</td>\n",
       "      <td>NaN</td>\n",
       "    </tr>\n",
       "    <tr>\n",
       "      <th>5</th>\n",
       "      <td>sooraj</td>\n",
       "      <td>biology</td>\n",
       "      <td>35.0</td>\n",
       "    </tr>\n",
       "  </tbody>\n",
       "</table>\n",
       "</div>"
      ],
      "text/plain": [
       "     name   syllabus  mark\n",
       "0  jithin    english  23.0\n",
       "1  nithin  malayalam   NaN\n",
       "2  vishnu    physics  30.0\n",
       "3   vipin  chemistry  28.0\n",
       "4    arun      maths   NaN\n",
       "5  sooraj    biology  35.0"
      ]
     },
     "execution_count": 24,
     "metadata": {},
     "output_type": "execute_result"
    }
   ],
   "source": [
    "# mt={\"name\":[\"jithin\",\"nithin\",\"vishnu\",\"vipin\",\"arun\",\"sooraj\"],\"subject\":[\"english\",\"malayalam\",\"physics\",\"chemistry\",\"maths\",\"biology\"],\"mark\":[23,np.nan,30,28,np.nan,35]}\n",
    "# print(mt)\n",
    "# df=pd.DataFrame(mt)\n",
    "# print(df)\n",
    "# df=df.rename(columns={\"subject\":\"syllabus\"})\n",
    "# df"
   ]
  },
  {
   "cell_type": "code",
   "execution_count": 35,
   "metadata": {},
   "outputs": [
    {
     "name": "stdout",
     "output_type": "stream",
     "text": [
      "{'name': ['jithin', 'nithin', 'vishnu', 'jithin', 'vipin', 'arun', 'sooraj'], 'subject': ['english', 'malayalam', 'physics', 'english', 'chemistry', 'maths', 'biology'], 'mark': [23, nan, 30, 23, 28, nan, 35]}\n"
     ]
    },
    {
     "data": {
      "text/html": [
       "<div>\n",
       "<style scoped>\n",
       "    .dataframe tbody tr th:only-of-type {\n",
       "        vertical-align: middle;\n",
       "    }\n",
       "\n",
       "    .dataframe tbody tr th {\n",
       "        vertical-align: top;\n",
       "    }\n",
       "\n",
       "    .dataframe thead th {\n",
       "        text-align: right;\n",
       "    }\n",
       "</style>\n",
       "<table border=\"1\" class=\"dataframe\">\n",
       "  <thead>\n",
       "    <tr style=\"text-align: right;\">\n",
       "      <th></th>\n",
       "      <th>name</th>\n",
       "      <th>subject</th>\n",
       "      <th>mark</th>\n",
       "    </tr>\n",
       "  </thead>\n",
       "  <tbody>\n",
       "    <tr>\n",
       "      <th>0</th>\n",
       "      <td>jithin</td>\n",
       "      <td>english</td>\n",
       "      <td>23.0</td>\n",
       "    </tr>\n",
       "    <tr>\n",
       "      <th>1</th>\n",
       "      <td>nithin</td>\n",
       "      <td>malayalam</td>\n",
       "      <td>NaN</td>\n",
       "    </tr>\n",
       "    <tr>\n",
       "      <th>2</th>\n",
       "      <td>vishnu</td>\n",
       "      <td>physics</td>\n",
       "      <td>30.0</td>\n",
       "    </tr>\n",
       "    <tr>\n",
       "      <th>4</th>\n",
       "      <td>vipin</td>\n",
       "      <td>chemistry</td>\n",
       "      <td>28.0</td>\n",
       "    </tr>\n",
       "    <tr>\n",
       "      <th>5</th>\n",
       "      <td>arun</td>\n",
       "      <td>maths</td>\n",
       "      <td>NaN</td>\n",
       "    </tr>\n",
       "    <tr>\n",
       "      <th>6</th>\n",
       "      <td>sooraj</td>\n",
       "      <td>biology</td>\n",
       "      <td>35.0</td>\n",
       "    </tr>\n",
       "  </tbody>\n",
       "</table>\n",
       "</div>"
      ],
      "text/plain": [
       "     name    subject  mark\n",
       "0  jithin    english  23.0\n",
       "1  nithin  malayalam   NaN\n",
       "2  vishnu    physics  30.0\n",
       "4   vipin  chemistry  28.0\n",
       "5    arun      maths   NaN\n",
       "6  sooraj    biology  35.0"
      ]
     },
     "execution_count": 35,
     "metadata": {},
     "output_type": "execute_result"
    }
   ],
   "source": [
    "# py={\"name\":[\"jithin\",\"nithin\",\"vishnu\",\"jithin\",\"vipin\",\"arun\",\"sooraj\"],\"subject\":[\"english\",\"malayalam\",\"physics\",\"english\",\"chemistry\",\"maths\",\"biology\"],\"mark\":[23,np.nan,30,23,28,np.nan,35]}\n",
    "# print(py)\n",
    "# df=pd.DataFrame(py)\n",
    "# df.drop_duplicates()\n"
   ]
  },
  {
   "cell_type": "code",
   "execution_count": 41,
   "metadata": {},
   "outputs": [
    {
     "name": "stdout",
     "output_type": "stream",
     "text": [
      "{'name': ['jithin', 'nithin', 'vishnu', 'jithin', 'vipin', 'arun', 'sooraj'], 'subject': ['english', 'malayalam', 'physics', 'english', 'chemistry', 'maths', 'biology'], 'mark': [23, nan, 30, 23, 28, nan, 35]}\n",
      "     name    subject  mark\n",
      "0  jithin    english  23.0\n",
      "1  nithin  malayalam   NaN\n",
      "2  vishnu    physics  30.0\n",
      "3  jithin    english  23.0\n",
      "4   vipin  chemistry  28.0\n",
      "5    arun      maths   NaN\n",
      "6  sooraj    biology  35.0\n"
     ]
    }
   ],
   "source": [
    "# bh={\"name\":[\"jithin\",\"nithin\",\"vishnu\",\"jithin\",\"vipin\",\"arun\",\"sooraj\"],\"subject\":[\"english\",\"malayalam\",\"physics\",\"english\",\"chemistry\",\"maths\",\"biology\"],\"mark\":[23,np.nan,30,23,28,np.nan,35]}\n",
    "# print(bh)\n",
    "# df=pd.DataFrame(bh)\n",
    "# print(df)\n",
    "# df.to_csv('sample.csv',index=True)\n"
   ]
  },
  {
   "cell_type": "code",
   "execution_count": 54,
   "metadata": {},
   "outputs": [
    {
     "name": "stdout",
     "output_type": "stream",
     "text": [
      "{'name': ['jithin', 'nithin', 'vishnu', 'jithin', 'vipin', 'arun', 'sooraj'], 'subject': ['english', 'malayalam', 'physics', 'english', 'chemistry', 'maths', 'biology'], 'mark': [23, nan, 30, 23, 28, nan, 35]}\n",
      "     name    subject  mark\n",
      "0  jithin    english  23.0\n",
      "1  nithin  malayalam   NaN\n",
      "2  vishnu    physics  30.0\n",
      "3  jithin    english  23.0\n",
      "4   vipin  chemistry  28.0\n",
      "5    arun      maths   NaN\n",
      "6  sooraj    biology  35.0\n"
     ]
    }
   ],
   "source": [
    "tt={\"name\":[\"jithin\",\"nithin\",\"vishnu\",\"jithin\",\"vipin\",\"arun\",\"sooraj\"],\"subject\":[\"english\",\"malayalam\",\"physics\",\"english\",\"chemistry\",\"maths\",\"biology\"],\"mark\":[23,np.nan,30,23,28,np.nan,35]}\n",
    "print(tt)\n",
    "df=pd.DataFrame(tt)\n",
    "print(df)\n",
    "df.to_excel('sample1.xlsx',index=True)\n",
    "\n"
   ]
  },
  {
   "cell_type": "code",
   "execution_count": 53,
   "metadata": {},
   "outputs": [
    {
     "name": "stdout",
     "output_type": "stream",
     "text": [
      "Collecting openpyxlNote: you may need to restart the kernel to use updated packages.\n",
      "\n",
      "  Downloading openpyxl-3.1.2-py2.py3-none-any.whl (249 kB)\n",
      "     ------------------------------------ 250.0/250.0 KB 163.3 kB/s eta 0:00:00\n",
      "Collecting et-xmlfile\n",
      "  Downloading et_xmlfile-1.1.0-py3-none-any.whl (4.7 kB)\n",
      "Installing collected packages: et-xmlfile, openpyxl\n",
      "Successfully installed et-xmlfile-1.1.0 openpyxl-3.1.2\n"
     ]
    },
    {
     "name": "stderr",
     "output_type": "stream",
     "text": [
      "WARNING: You are using pip version 22.0.4; however, version 24.0 is available.\n",
      "You should consider upgrading via the 'c:\\Users\\ABHINAV\\AppData\\Local\\Programs\\Python\\Python310\\python.exe -m pip install --upgrade pip' command.\n"
     ]
    }
   ],
   "source": [
    "pip install openpyxl\n"
   ]
  },
  {
   "cell_type": "code",
   "execution_count": 62,
   "metadata": {},
   "outputs": [
    {
     "data": {
      "text/html": [
       "<div>\n",
       "<style scoped>\n",
       "    .dataframe tbody tr th:only-of-type {\n",
       "        vertical-align: middle;\n",
       "    }\n",
       "\n",
       "    .dataframe tbody tr th {\n",
       "        vertical-align: top;\n",
       "    }\n",
       "\n",
       "    .dataframe thead th {\n",
       "        text-align: right;\n",
       "    }\n",
       "</style>\n",
       "<table border=\"1\" class=\"dataframe\">\n",
       "  <thead>\n",
       "    <tr style=\"text-align: right;\">\n",
       "      <th></th>\n",
       "      <th>Unnamed: 0</th>\n",
       "      <th>name</th>\n",
       "      <th>subject</th>\n",
       "      <th>mark</th>\n",
       "    </tr>\n",
       "  </thead>\n",
       "  <tbody>\n",
       "    <tr>\n",
       "      <th>0</th>\n",
       "      <td>0</td>\n",
       "      <td>jithin</td>\n",
       "      <td>english</td>\n",
       "      <td>23.0</td>\n",
       "    </tr>\n",
       "  </tbody>\n",
       "</table>\n",
       "</div>"
      ],
      "text/plain": [
       "   Unnamed: 0    name  subject  mark\n",
       "0           0  jithin  english  23.0"
      ]
     },
     "execution_count": 62,
     "metadata": {},
     "output_type": "execute_result"
    }
   ],
   "source": [
    "df=pd.read_csv('sample.csv')\n",
    "df\n",
    "#head and tail function\n",
    "nm=df.tail(1)\n",
    "nm\n",
    "hj=df.head(1)\n",
    "hj"
   ]
  },
  {
   "cell_type": "code",
   "execution_count": 75,
   "metadata": {},
   "outputs": [
    {
     "name": "stdout",
     "output_type": "stream",
     "text": [
      "     subject  mark    name\n",
      "0    english  23.0  jithin\n",
      "1  malayalam   NaN  nithin\n",
      "2    physics  30.0  vishnu\n",
      "3    english  23.0  jithin\n",
      "4  chemistry  28.0   vipin\n",
      "5      maths   NaN    arun\n",
      "6    biology  35.0  sooraj\n"
     ]
    }
   ],
   "source": [
    "print(df[[\"subject\",\"mark\",\"name\"]])\n"
   ]
  },
  {
   "cell_type": "code",
   "execution_count": 85,
   "metadata": {},
   "outputs": [
    {
     "name": "stdout",
     "output_type": "stream",
     "text": [
      "   Unnamed: 0    name    subject  mark\n",
      "2           2  vishnu    physics  30.0\n",
      "4           4   vipin  chemistry  28.0\n",
      "6           6  sooraj    biology  35.0\n"
     ]
    }
   ],
   "source": [
    "print(df[df[\"mark\"]>25])\n"
   ]
  },
  {
   "cell_type": "code",
   "execution_count": 91,
   "metadata": {},
   "outputs": [
    {
     "name": "stdout",
     "output_type": "stream",
     "text": [
      "{'name': ['jithin', 'athira', 'vishnu', 'aswathi', 'vipin', 'arun', 'sooraj'], 'subject': ['english', 'malayalam', 'physics', 'english', 'chemistry', 'maths', 'biology'], 'mark': [23, nan, 30, 23, 28, nan, 35]}\n",
      "      name    subject  mark\n",
      "0   jithin    english  23.0\n",
      "1   athira  malayalam   NaN\n",
      "2   vishnu    physics  30.0\n",
      "3  aswathi    english  23.0\n",
      "4    vipin  chemistry  28.0\n",
      "5     arun      maths   NaN\n",
      "6   sooraj    biology  35.0\n"
     ]
    },
    {
     "data": {
      "text/html": [
       "<div>\n",
       "<style scoped>\n",
       "    .dataframe tbody tr th:only-of-type {\n",
       "        vertical-align: middle;\n",
       "    }\n",
       "\n",
       "    .dataframe tbody tr th {\n",
       "        vertical-align: top;\n",
       "    }\n",
       "\n",
       "    .dataframe thead th {\n",
       "        text-align: right;\n",
       "    }\n",
       "</style>\n",
       "<table border=\"1\" class=\"dataframe\">\n",
       "  <thead>\n",
       "    <tr style=\"text-align: right;\">\n",
       "      <th></th>\n",
       "      <th>name</th>\n",
       "      <th>subject</th>\n",
       "      <th>mark</th>\n",
       "      <th>gender</th>\n",
       "    </tr>\n",
       "  </thead>\n",
       "  <tbody>\n",
       "    <tr>\n",
       "      <th>0</th>\n",
       "      <td>jithin</td>\n",
       "      <td>english</td>\n",
       "      <td>23.0</td>\n",
       "      <td>male</td>\n",
       "    </tr>\n",
       "    <tr>\n",
       "      <th>1</th>\n",
       "      <td>athira</td>\n",
       "      <td>malayalam</td>\n",
       "      <td>NaN</td>\n",
       "      <td>female</td>\n",
       "    </tr>\n",
       "    <tr>\n",
       "      <th>2</th>\n",
       "      <td>vishnu</td>\n",
       "      <td>physics</td>\n",
       "      <td>30.0</td>\n",
       "      <td>male</td>\n",
       "    </tr>\n",
       "    <tr>\n",
       "      <th>3</th>\n",
       "      <td>aswathi</td>\n",
       "      <td>english</td>\n",
       "      <td>23.0</td>\n",
       "      <td>female</td>\n",
       "    </tr>\n",
       "    <tr>\n",
       "      <th>4</th>\n",
       "      <td>vipin</td>\n",
       "      <td>chemistry</td>\n",
       "      <td>28.0</td>\n",
       "      <td>male</td>\n",
       "    </tr>\n",
       "    <tr>\n",
       "      <th>5</th>\n",
       "      <td>arun</td>\n",
       "      <td>maths</td>\n",
       "      <td>NaN</td>\n",
       "      <td>male</td>\n",
       "    </tr>\n",
       "    <tr>\n",
       "      <th>6</th>\n",
       "      <td>sooraj</td>\n",
       "      <td>biology</td>\n",
       "      <td>35.0</td>\n",
       "      <td>male</td>\n",
       "    </tr>\n",
       "  </tbody>\n",
       "</table>\n",
       "</div>"
      ],
      "text/plain": [
       "      name    subject  mark  gender\n",
       "0   jithin    english  23.0    male\n",
       "1   athira  malayalam   NaN  female\n",
       "2   vishnu    physics  30.0    male\n",
       "3  aswathi    english  23.0  female\n",
       "4    vipin  chemistry  28.0    male\n",
       "5     arun      maths   NaN    male\n",
       "6   sooraj    biology  35.0    male"
      ]
     },
     "execution_count": 91,
     "metadata": {},
     "output_type": "execute_result"
    }
   ],
   "source": [
    "# rq={\"name\":[\"jithin\",\"athira\",\"vishnu\",\"aswathi\",\"vipin\",\"arun\",\"sooraj\"],\"subject\":[\"english\",\"malayalam\",\"physics\",\"english\",\"chemistry\",\"maths\",\"biology\"],\"mark\":[23,np.nan,30,23,28,np.nan,35]}\n",
    "# print(rq)\n",
    "# df=pd.DataFrame(rq)\n",
    "# print(df)\n",
    "# df[\"gender\"]=[\"male\",\"female\",\"male\",\"female\",\"male\",\"male\",\"male\"]\n",
    "# df"
   ]
  },
  {
   "cell_type": "code",
   "execution_count": 16,
   "metadata": {},
   "outputs": [
    {
     "name": "stdout",
     "output_type": "stream",
     "text": [
      "{'name': ['jithin', 'athira', 'vishnu', 'aswathi', 'vipin', 'arun', 'sooraj', 'athul', 'adarsh'], 'subject': ['english', 'malayalam', 'physics', 'hindi', 'chemistry', 'maths', 'biology', 'social science', 'it'], 'mark': [23, nan, 30, 23, 28, nan, 35, 27, 31]}\n",
      "      name         subject  mark\n",
      "0   jithin         english  23.0\n",
      "1   athira       malayalam   NaN\n",
      "2   vishnu         physics  30.0\n",
      "3  aswathi           hindi  23.0\n",
      "4    vipin       chemistry  28.0\n",
      "5     arun           maths   NaN\n",
      "6   sooraj         biology  35.0\n",
      "7    athul  social science  27.0\n",
      "8   adarsh              it  31.0\n"
     ]
    },
    {
     "data": {
      "text/html": [
       "<div>\n",
       "<style scoped>\n",
       "    .dataframe tbody tr th:only-of-type {\n",
       "        vertical-align: middle;\n",
       "    }\n",
       "\n",
       "    .dataframe tbody tr th {\n",
       "        vertical-align: top;\n",
       "    }\n",
       "\n",
       "    .dataframe thead th {\n",
       "        text-align: right;\n",
       "    }\n",
       "</style>\n",
       "<table border=\"1\" class=\"dataframe\">\n",
       "  <thead>\n",
       "    <tr style=\"text-align: right;\">\n",
       "      <th></th>\n",
       "      <th>Unnamed: 0</th>\n",
       "      <th>name</th>\n",
       "      <th>subject</th>\n",
       "      <th>mark</th>\n",
       "    </tr>\n",
       "  </thead>\n",
       "  <tbody>\n",
       "    <tr>\n",
       "      <th>0</th>\n",
       "      <td>0</td>\n",
       "      <td>jithin</td>\n",
       "      <td>english</td>\n",
       "      <td>23.0</td>\n",
       "    </tr>\n",
       "    <tr>\n",
       "      <th>1</th>\n",
       "      <td>1</td>\n",
       "      <td>athira</td>\n",
       "      <td>malayalam</td>\n",
       "      <td>NaN</td>\n",
       "    </tr>\n",
       "    <tr>\n",
       "      <th>2</th>\n",
       "      <td>2</td>\n",
       "      <td>vishnu</td>\n",
       "      <td>physics</td>\n",
       "      <td>30.0</td>\n",
       "    </tr>\n",
       "    <tr>\n",
       "      <th>3</th>\n",
       "      <td>3</td>\n",
       "      <td>aswathi</td>\n",
       "      <td>hindi</td>\n",
       "      <td>23.0</td>\n",
       "    </tr>\n",
       "    <tr>\n",
       "      <th>4</th>\n",
       "      <td>4</td>\n",
       "      <td>vipin</td>\n",
       "      <td>chemistry</td>\n",
       "      <td>28.0</td>\n",
       "    </tr>\n",
       "    <tr>\n",
       "      <th>5</th>\n",
       "      <td>5</td>\n",
       "      <td>arun</td>\n",
       "      <td>maths</td>\n",
       "      <td>NaN</td>\n",
       "    </tr>\n",
       "    <tr>\n",
       "      <th>6</th>\n",
       "      <td>6</td>\n",
       "      <td>sooraj</td>\n",
       "      <td>biology</td>\n",
       "      <td>35.0</td>\n",
       "    </tr>\n",
       "    <tr>\n",
       "      <th>7</th>\n",
       "      <td>7</td>\n",
       "      <td>athul</td>\n",
       "      <td>social science</td>\n",
       "      <td>27.0</td>\n",
       "    </tr>\n",
       "    <tr>\n",
       "      <th>8</th>\n",
       "      <td>8</td>\n",
       "      <td>adarsh</td>\n",
       "      <td>it</td>\n",
       "      <td>31.0</td>\n",
       "    </tr>\n",
       "  </tbody>\n",
       "</table>\n",
       "</div>"
      ],
      "text/plain": [
       "   Unnamed: 0     name         subject  mark\n",
       "0           0   jithin         english  23.0\n",
       "1           1   athira       malayalam   NaN\n",
       "2           2   vishnu         physics  30.0\n",
       "3           3  aswathi           hindi  23.0\n",
       "4           4    vipin       chemistry  28.0\n",
       "5           5     arun           maths   NaN\n",
       "6           6   sooraj         biology  35.0\n",
       "7           7    athul  social science  27.0\n",
       "8           8   adarsh              it  31.0"
      ]
     },
     "execution_count": 16,
     "metadata": {},
     "output_type": "execute_result"
    }
   ],
   "source": [
    "import numpy as np\n",
    "import pandas as pd\n",
    "rslt={\"name\":[\"jithin\",\"athira\",\"vishnu\",\"aswathi\",\"vipin\",\"arun\",\"sooraj\",\"athul\",\"adarsh\"],\"subject\":[\"english\",\"malayalam\",\"physics\",\"hindi\",\"chemistry\",\"maths\",\"biology\",\"social science\",\"it\"],\"mark\":[23,np.nan,30,23,28,np.nan,35,27,31]}\n",
    "print(rslt)\n",
    "df=pd.DataFrame(rslt)\n",
    "print(df)\n",
    "df.to_csv('sample6.csv',index=\"true\")\n",
    "pd.read_csv(\"sample6.csv\")\n"
   ]
  },
  {
   "cell_type": "code",
   "execution_count": 19,
   "metadata": {},
   "outputs": [
    {
     "name": "stdout",
     "output_type": "stream",
     "text": [
      "28.142857142857142\n"
     ]
    },
    {
     "data": {
      "text/html": [
       "<div>\n",
       "<style scoped>\n",
       "    .dataframe tbody tr th:only-of-type {\n",
       "        vertical-align: middle;\n",
       "    }\n",
       "\n",
       "    .dataframe tbody tr th {\n",
       "        vertical-align: top;\n",
       "    }\n",
       "\n",
       "    .dataframe thead th {\n",
       "        text-align: right;\n",
       "    }\n",
       "</style>\n",
       "<table border=\"1\" class=\"dataframe\">\n",
       "  <thead>\n",
       "    <tr style=\"text-align: right;\">\n",
       "      <th></th>\n",
       "      <th>name</th>\n",
       "      <th>subject</th>\n",
       "      <th>mark</th>\n",
       "    </tr>\n",
       "  </thead>\n",
       "  <tbody>\n",
       "    <tr>\n",
       "      <th>0</th>\n",
       "      <td>jithin</td>\n",
       "      <td>english</td>\n",
       "      <td>23.000000</td>\n",
       "    </tr>\n",
       "    <tr>\n",
       "      <th>1</th>\n",
       "      <td>athira</td>\n",
       "      <td>malayalam</td>\n",
       "      <td>28.142857</td>\n",
       "    </tr>\n",
       "    <tr>\n",
       "      <th>2</th>\n",
       "      <td>vishnu</td>\n",
       "      <td>physics</td>\n",
       "      <td>30.000000</td>\n",
       "    </tr>\n",
       "    <tr>\n",
       "      <th>3</th>\n",
       "      <td>aswathi</td>\n",
       "      <td>hindi</td>\n",
       "      <td>23.000000</td>\n",
       "    </tr>\n",
       "    <tr>\n",
       "      <th>4</th>\n",
       "      <td>vipin</td>\n",
       "      <td>chemistry</td>\n",
       "      <td>28.000000</td>\n",
       "    </tr>\n",
       "    <tr>\n",
       "      <th>5</th>\n",
       "      <td>arun</td>\n",
       "      <td>maths</td>\n",
       "      <td>28.142857</td>\n",
       "    </tr>\n",
       "    <tr>\n",
       "      <th>6</th>\n",
       "      <td>sooraj</td>\n",
       "      <td>biology</td>\n",
       "      <td>35.000000</td>\n",
       "    </tr>\n",
       "    <tr>\n",
       "      <th>7</th>\n",
       "      <td>athul</td>\n",
       "      <td>social science</td>\n",
       "      <td>27.000000</td>\n",
       "    </tr>\n",
       "    <tr>\n",
       "      <th>8</th>\n",
       "      <td>adarsh</td>\n",
       "      <td>it</td>\n",
       "      <td>31.000000</td>\n",
       "    </tr>\n",
       "  </tbody>\n",
       "</table>\n",
       "</div>"
      ],
      "text/plain": [
       "      name         subject       mark\n",
       "0   jithin         english  23.000000\n",
       "1   athira       malayalam  28.142857\n",
       "2   vishnu         physics  30.000000\n",
       "3  aswathi           hindi  23.000000\n",
       "4    vipin       chemistry  28.000000\n",
       "5     arun           maths  28.142857\n",
       "6   sooraj         biology  35.000000\n",
       "7    athul  social science  27.000000\n",
       "8   adarsh              it  31.000000"
      ]
     },
     "execution_count": 19,
     "metadata": {},
     "output_type": "execute_result"
    }
   ],
   "source": [
    "xx=np.mean(df[\"mark\"])\n",
    "print(xx)\n",
    "df.fillna(xx,inplace=True)\n",
    "df"
   ]
  },
  {
   "cell_type": "code",
   "execution_count": 23,
   "metadata": {},
   "outputs": [
    {
     "name": "stdout",
     "output_type": "stream",
     "text": [
      "28.142857142857142\n"
     ]
    },
    {
     "data": {
      "text/html": [
       "<div>\n",
       "<style scoped>\n",
       "    .dataframe tbody tr th:only-of-type {\n",
       "        vertical-align: middle;\n",
       "    }\n",
       "\n",
       "    .dataframe tbody tr th {\n",
       "        vertical-align: top;\n",
       "    }\n",
       "\n",
       "    .dataframe thead th {\n",
       "        text-align: right;\n",
       "    }\n",
       "</style>\n",
       "<table border=\"1\" class=\"dataframe\">\n",
       "  <thead>\n",
       "    <tr style=\"text-align: right;\">\n",
       "      <th></th>\n",
       "      <th>name</th>\n",
       "      <th>subject</th>\n",
       "      <th>mark</th>\n",
       "      <th>square</th>\n",
       "      <th>sum</th>\n",
       "    </tr>\n",
       "  </thead>\n",
       "  <tbody>\n",
       "    <tr>\n",
       "      <th>0</th>\n",
       "      <td>jithin</td>\n",
       "      <td>english</td>\n",
       "      <td>23.000000</td>\n",
       "      <td>529.000000</td>\n",
       "      <td>23.000000</td>\n",
       "    </tr>\n",
       "    <tr>\n",
       "      <th>1</th>\n",
       "      <td>athira</td>\n",
       "      <td>malayalam</td>\n",
       "      <td>28.142857</td>\n",
       "      <td>792.020408</td>\n",
       "      <td>51.142857</td>\n",
       "    </tr>\n",
       "    <tr>\n",
       "      <th>2</th>\n",
       "      <td>vishnu</td>\n",
       "      <td>physics</td>\n",
       "      <td>30.000000</td>\n",
       "      <td>900.000000</td>\n",
       "      <td>81.142857</td>\n",
       "    </tr>\n",
       "    <tr>\n",
       "      <th>3</th>\n",
       "      <td>aswathi</td>\n",
       "      <td>hindi</td>\n",
       "      <td>23.000000</td>\n",
       "      <td>529.000000</td>\n",
       "      <td>104.142857</td>\n",
       "    </tr>\n",
       "    <tr>\n",
       "      <th>4</th>\n",
       "      <td>vipin</td>\n",
       "      <td>chemistry</td>\n",
       "      <td>28.000000</td>\n",
       "      <td>784.000000</td>\n",
       "      <td>132.142857</td>\n",
       "    </tr>\n",
       "    <tr>\n",
       "      <th>5</th>\n",
       "      <td>arun</td>\n",
       "      <td>maths</td>\n",
       "      <td>28.142857</td>\n",
       "      <td>792.020408</td>\n",
       "      <td>160.285714</td>\n",
       "    </tr>\n",
       "    <tr>\n",
       "      <th>6</th>\n",
       "      <td>sooraj</td>\n",
       "      <td>biology</td>\n",
       "      <td>35.000000</td>\n",
       "      <td>1225.000000</td>\n",
       "      <td>195.285714</td>\n",
       "    </tr>\n",
       "    <tr>\n",
       "      <th>7</th>\n",
       "      <td>athul</td>\n",
       "      <td>social science</td>\n",
       "      <td>27.000000</td>\n",
       "      <td>729.000000</td>\n",
       "      <td>222.285714</td>\n",
       "    </tr>\n",
       "    <tr>\n",
       "      <th>8</th>\n",
       "      <td>adarsh</td>\n",
       "      <td>it</td>\n",
       "      <td>31.000000</td>\n",
       "      <td>961.000000</td>\n",
       "      <td>253.285714</td>\n",
       "    </tr>\n",
       "  </tbody>\n",
       "</table>\n",
       "</div>"
      ],
      "text/plain": [
       "      name         subject       mark       square         sum\n",
       "0   jithin         english  23.000000   529.000000   23.000000\n",
       "1   athira       malayalam  28.142857   792.020408   51.142857\n",
       "2   vishnu         physics  30.000000   900.000000   81.142857\n",
       "3  aswathi           hindi  23.000000   529.000000  104.142857\n",
       "4    vipin       chemistry  28.000000   784.000000  132.142857\n",
       "5     arun           maths  28.142857   792.020408  160.285714\n",
       "6   sooraj         biology  35.000000  1225.000000  195.285714\n",
       "7    athul  social science  27.000000   729.000000  222.285714\n",
       "8   adarsh              it  31.000000   961.000000  253.285714"
      ]
     },
     "execution_count": 23,
     "metadata": {},
     "output_type": "execute_result"
    }
   ],
   "source": [
    "xx=np.mean(df[\"mark\"])\n",
    "print(xx)\n",
    "df.fillna(xx,inplace=True)\n",
    "df\n",
    "df['sum']=np.cumsum(df[\"mark\"])\n",
    "df"
   ]
  },
  {
   "cell_type": "code",
   "execution_count": 24,
   "metadata": {},
   "outputs": [
    {
     "name": "stdout",
     "output_type": "stream",
     "text": [
      "28.142857142857142\n"
     ]
    },
    {
     "data": {
      "text/html": [
       "<div>\n",
       "<style scoped>\n",
       "    .dataframe tbody tr th:only-of-type {\n",
       "        vertical-align: middle;\n",
       "    }\n",
       "\n",
       "    .dataframe tbody tr th {\n",
       "        vertical-align: top;\n",
       "    }\n",
       "\n",
       "    .dataframe thead th {\n",
       "        text-align: right;\n",
       "    }\n",
       "</style>\n",
       "<table border=\"1\" class=\"dataframe\">\n",
       "  <thead>\n",
       "    <tr style=\"text-align: right;\">\n",
       "      <th></th>\n",
       "      <th>name</th>\n",
       "      <th>subject</th>\n",
       "      <th>mark</th>\n",
       "      <th>square</th>\n",
       "      <th>sum</th>\n",
       "    </tr>\n",
       "  </thead>\n",
       "  <tbody>\n",
       "    <tr>\n",
       "      <th>0</th>\n",
       "      <td>jithin</td>\n",
       "      <td>english</td>\n",
       "      <td>23.000000</td>\n",
       "      <td>529.000000</td>\n",
       "      <td>23.000000</td>\n",
       "    </tr>\n",
       "    <tr>\n",
       "      <th>1</th>\n",
       "      <td>athira</td>\n",
       "      <td>malayalam</td>\n",
       "      <td>28.142857</td>\n",
       "      <td>792.020408</td>\n",
       "      <td>51.142857</td>\n",
       "    </tr>\n",
       "    <tr>\n",
       "      <th>2</th>\n",
       "      <td>vishnu</td>\n",
       "      <td>physics</td>\n",
       "      <td>30.000000</td>\n",
       "      <td>900.000000</td>\n",
       "      <td>81.142857</td>\n",
       "    </tr>\n",
       "    <tr>\n",
       "      <th>3</th>\n",
       "      <td>aswathi</td>\n",
       "      <td>hindi</td>\n",
       "      <td>23.000000</td>\n",
       "      <td>529.000000</td>\n",
       "      <td>104.142857</td>\n",
       "    </tr>\n",
       "    <tr>\n",
       "      <th>4</th>\n",
       "      <td>vipin</td>\n",
       "      <td>chemistry</td>\n",
       "      <td>28.000000</td>\n",
       "      <td>784.000000</td>\n",
       "      <td>132.142857</td>\n",
       "    </tr>\n",
       "    <tr>\n",
       "      <th>5</th>\n",
       "      <td>arun</td>\n",
       "      <td>maths</td>\n",
       "      <td>28.142857</td>\n",
       "      <td>792.020408</td>\n",
       "      <td>160.285714</td>\n",
       "    </tr>\n",
       "    <tr>\n",
       "      <th>6</th>\n",
       "      <td>sooraj</td>\n",
       "      <td>biology</td>\n",
       "      <td>35.000000</td>\n",
       "      <td>1225.000000</td>\n",
       "      <td>195.285714</td>\n",
       "    </tr>\n",
       "    <tr>\n",
       "      <th>7</th>\n",
       "      <td>athul</td>\n",
       "      <td>social science</td>\n",
       "      <td>27.000000</td>\n",
       "      <td>729.000000</td>\n",
       "      <td>222.285714</td>\n",
       "    </tr>\n",
       "    <tr>\n",
       "      <th>8</th>\n",
       "      <td>adarsh</td>\n",
       "      <td>it</td>\n",
       "      <td>31.000000</td>\n",
       "      <td>961.000000</td>\n",
       "      <td>253.285714</td>\n",
       "    </tr>\n",
       "  </tbody>\n",
       "</table>\n",
       "</div>"
      ],
      "text/plain": [
       "      name         subject       mark       square         sum\n",
       "0   jithin         english  23.000000   529.000000   23.000000\n",
       "1   athira       malayalam  28.142857   792.020408   51.142857\n",
       "2   vishnu         physics  30.000000   900.000000   81.142857\n",
       "3  aswathi           hindi  23.000000   529.000000  104.142857\n",
       "4    vipin       chemistry  28.000000   784.000000  132.142857\n",
       "5     arun           maths  28.142857   792.020408  160.285714\n",
       "6   sooraj         biology  35.000000  1225.000000  195.285714\n",
       "7    athul  social science  27.000000   729.000000  222.285714\n",
       "8   adarsh              it  31.000000   961.000000  253.285714"
      ]
     },
     "execution_count": 24,
     "metadata": {},
     "output_type": "execute_result"
    }
   ],
   "source": [
    "xx=np.mean(df[\"mark\"])\n",
    "print(xx)\n",
    "df.fillna(xx,inplace=True)\n",
    "df\n",
    "df['sum']=np.cumsum(df[\"mark\"])\n",
    "df"
   ]
  },
  {
   "cell_type": "code",
   "execution_count": 32,
   "metadata": {},
   "outputs": [
    {
     "name": "stdout",
     "output_type": "stream",
     "text": [
      "     name  subject  mark  square         sum\n",
      "6  sooraj  biology  35.0  1225.0  195.285714\n",
      "8  adarsh       it  31.0   961.0  253.285714\n"
     ]
    }
   ],
   "source": [
    "print(df[df[\"mark\"]>30])"
   ]
  },
  {
   "cell_type": "code",
   "execution_count": 31,
   "metadata": {},
   "outputs": [
    {
     "name": "stdout",
     "output_type": "stream",
     "text": [
      "     name  subject  mark  square         sum\n",
      "6  sooraj  biology  35.0  1225.0  195.285714\n",
      "8  adarsh       it  31.0   961.0  253.285714\n"
     ]
    }
   ],
   "source": []
  }
 ],
 "metadata": {
  "kernelspec": {
   "display_name": "Python 3",
   "language": "python",
   "name": "python3"
  },
  "language_info": {
   "codemirror_mode": {
    "name": "ipython",
    "version": 3
   },
   "file_extension": ".py",
   "mimetype": "text/x-python",
   "name": "python",
   "nbconvert_exporter": "python",
   "pygments_lexer": "ipython3",
   "version": "3.10.4"
  }
 },
 "nbformat": 4,
 "nbformat_minor": 2
}
